{
 "cells": [
  {
   "cell_type": "code",
   "execution_count": 25,
   "metadata": {},
   "outputs": [
    {
     "name": "stderr",
     "output_type": "stream",
     "text": [
      "/Users/vigji/miniconda3/envs/lab-env/lib/python3.10/site-packages/openpyxl/worksheet/_read_only.py:81: UserWarning: Data Validation extension is not supported and will be removed\n",
      "  for idx, row in parser.parse():\n"
     ]
    }
   ],
   "source": [
    "import pandas as pd\n",
    "from datetime import datetime\n",
    "from pathlib import Path\n",
    "import spikeinterface.full as si \n",
    "from zoneinfo import ZoneInfo\n",
    "\n",
    "\n",
    "def _read_oephys_datetime(oephys_folder, timezone=\"Europe/Rome\"):\n",
    "    \"\"\"Read the datetime of the recording from the sync_messages.txt file in the oephys folder.\"\"\"\n",
    "\n",
    "    synch_txt_file = _find_in_folder(oephys_folder, \"*/*/*/sync_messages.txt\")\n",
    "\n",
    "    with open(synch_txt_file, \"r\") as f:\n",
    "        line = f.readline()\n",
    "\n",
    "    # get content between : and \\n:\n",
    "    start_msec_utc = int(line.split(\": \")[1].split(\"\\n\")[0])\n",
    "    return datetime.fromtimestamp(start_msec_utc / 1000, ZoneInfo(timezone))\n",
    "\n",
    "def _find_in_folder(folder, pattern):\n",
    "    return next(folder.glob(pattern))\n",
    "\n",
    "\n",
    "mid = \"M21\"\n",
    "day = \"20240421\"\n",
    "ses = \"165242\"\n",
    "data_folder = Path(f\"/Users/vigji/Desktop/test_mpa_dir/P02_MPAOPTO_LP/e02_ephys-contrapag-stim/{mid}/{day}/{ses}\")\n",
    "\n",
    "\n",
    "# read mouse excel using pandas\n",
    "mice_df = pd.read_excel(\"/Users/vigji/Desktop/test_mpa_dir/logs/surgery_log.xlsx\",\n",
    "                        skiprows=1)\n",
    "mice_df = mice_df.iloc[:, 1:]\n",
    "\n",
    "subject_id = \"D395_M1\"\n",
    "subject_metadata = mice_df.query(\"subject_id == @subject_id\").iloc[0].to_dict()\n",
    "#Parse birth date:\n",
    "subject_birth_date = subject_metadata.pop(\"date_of_birth\").replace(tzinfo=ZoneInfo(\"Europe/Rome\"))\n",
    "oephys_folder = _find_in_folder(data_folder, \"NPX/[0-9]*\")\n",
    "session_start_time = _read_oephys_datetime(oephys_folder)\n",
    "\n",
    "subject_metadata[\"age\"] = f\"P{(session_start_time - subject_birth_date).days}D\""
   ]
  },
  {
   "cell_type": "code",
   "execution_count": 26,
   "metadata": {},
   "outputs": [
    {
     "data": {
      "text/plain": [
       "'P279D'"
      ]
     },
     "execution_count": 26,
     "metadata": {},
     "output_type": "execute_result"
    }
   ],
   "source": [
    "subject_metadata[\"age\"]"
   ]
  },
  {
   "cell_type": "code",
   "execution_count": 27,
   "metadata": {},
   "outputs": [
    {
     "data": {
      "text/plain": [
       "Timestamp('2023-07-17 00:00:00+0200', tz='Europe/Rome')"
      ]
     },
     "execution_count": 27,
     "metadata": {},
     "output_type": "execute_result"
    }
   ],
   "source": [
    "subject_birth_date"
   ]
  },
  {
   "cell_type": "code",
   "execution_count": null,
   "metadata": {},
   "outputs": [],
   "source": []
  }
 ],
 "metadata": {
  "kernelspec": {
   "display_name": "lab-env",
   "language": "python",
   "name": "python3"
  },
  "language_info": {
   "codemirror_mode": {
    "name": "ipython",
    "version": 3
   },
   "file_extension": ".py",
   "mimetype": "text/x-python",
   "name": "python",
   "nbconvert_exporter": "python",
   "pygments_lexer": "ipython3",
   "version": "3.10.0"
  }
 },
 "nbformat": 4,
 "nbformat_minor": 2
}
