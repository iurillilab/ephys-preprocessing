{
 "cells": [
  {
   "cell_type": "code",
   "execution_count": 1,
   "id": "62ed040d",
   "metadata": {},
   "outputs": [],
   "source": [
    "data_path_list = [\"/Volumes/Extreme SSD/P02_MPAOPTO_LP/e04_ephys-contrapag-stim/v01/M22/2024-04-23_10-39-40\"]\n",
    "run_barcodeSync = False\n",
    "run_preprocessing = True # run preprocessing and spikesorting\n",
    "callKSfromSI = False  # this remains insanely slow."
   ]
  },
  {
   "cell_type": "code",
   "execution_count": 5,
   "id": "f2ee7cbf",
   "metadata": {},
   "outputs": [],
   "source": [
    "%matplotlib widget\n",
    "from matplotlib import pyplot as plt\n",
    "import spikeinterface.extractors as se\n",
    "import spikeinterface.widgets as sw\n",
    "import spikeinterface.preprocessing as st\n",
    "\n",
    "from spikeinterface import get_noise_levels, aggregate_channels\n",
    "from pathlib import Path\n",
    "import os"
   ]
  },
  {
   "cell_type": "code",
   "execution_count": null,
   "id": "504b5746",
   "metadata": {},
   "outputs": [],
   "source": [
    "streams = ['Record Node 103#NI-DAQmx-102.USB-6212 (BNC)', 'Record Node 103#Neuropix-PXI-100.ProbeA-AP', \n",
    "           'Record Node 103#Neuropix-PXI-100.ProbeA-LFP', 'Record Node 103#Neuropix-PXI-100.ProbeB-AP', \n",
    "           'Record Node 103#Neuropix-PXI-100.ProbeB-LFP']\n",
    "bnc_data = se.read_openephys(data_path, stream_name=streams[0])\n",
    "recording = se.read_openephys(data_path, stream_name=streams[1])\n",
    "\n",
    "\n",
    "fs = recording.get_sampling_frequency()\n",
    "\n",
    "noise_levels_microV = get_noise_levels(recording, return_scaled=True)\n",
    "\n",
    "# preprocessing steps\n",
    "recording_lsb = st.correct_lsb(recording, verbose=1)\n",
    "[bad_channel_ids, channel_labels] = st.detect_bad_channels(recording=recording)  \n",
    "recording = recording.remove_channels(remove_channel_ids=bad_channel_ids)  # could be interpolated instead, but why?\n",
    "\n",
    "recording_bandpass = st.bandpass_filter(recording, freq_min=300, freq_max=6000)\n",
    "recording_ps = st.phase_shift(recording_bandpass) #lazy\n",
    "\n",
    "grouped_recordings = recording.split_by(property='group')\n",
    "\n",
    "# Spatial filtering function and parameters to use on either the recording or the recording split in groups:\n",
    "spatial_filter_func = st.highpass_spatial_filter\n",
    "spatial_filter_params = {}\n",
    "\n",
    "# split in groups and apply spatial filtering, then reaggregate. KS4 can now handle multiple shanks\n",
    "if not all(recording_ps.get_property(\"group\") == 0):\n",
    "    grouped_recordings = recording_ps.split_by(property='group')\n",
    "    recgrouplist_hpsf = [spatial_filter_func(recording=grouped_recordings[k], **spatial_filter_params) for k in grouped_recordings.keys()]  # cmr is slightly faster. results are similar\n",
    "    recording_hpsf = aggregate_channels(recgrouplist_hpsf)\n",
    "else:\n",
    "    recording_hpsf = spatial_filter_func(recording=recording_ps, **spatial_filter_params)"
   ]
  },
  {
   "cell_type": "code",
   "execution_count": 30,
   "id": "3081d498",
   "metadata": {},
   "outputs": [],
   "source": []
  },
  {
   "cell_type": "code",
   "execution_count": 31,
   "id": "f30dfc01",
   "metadata": {},
   "outputs": [
    {
     "data": {
      "application/vnd.jupyter.widget-view+json": {
       "model_id": "a55e89583d164342aa829eea4b5e386b",
       "version_major": 2,
       "version_minor": 0
      },
      "text/plain": [
       "AppLayout(children=(TimeSlider(children=(Dropdown(description='segment', options=(0,), value=0), Button(icon='…"
      ]
     },
     "metadata": {},
     "output_type": "display_data"
    },
    {
     "ename": "",
     "evalue": "",
     "output_type": "error",
     "traceback": [
      "\u001b[1;31mThe Kernel crashed while executing code in the current cell or a previous cell. \n",
      "\u001b[1;31mPlease review the code in the cell(s) to identify a possible cause of the failure. \n",
      "\u001b[1;31mClick <a href='https://aka.ms/vscodeJupyterKernelCrash'>here</a> for more info. \n",
      "\u001b[1;31mView Jupyter <a href='command:jupyter.viewOutput'>log</a> for further details."
     ]
    }
   ],
   "source": [
    "w_ts = sw.plot_traces({\"traces\": recording, \n",
    "                       \"bandpass\": recording_bandpass,\n",
    "                       \"recording_hpsf\": recording_hpsf}, \n",
    "                       backend=\"ipywidgets\",time_range=[0, 0.05], width_cm=30, height_cm=10)\n",
    "# w_ts.ax.plot([0, 5], [200, 200])"
   ]
  },
  {
   "cell_type": "code",
   "execution_count": null,
   "id": "8c5091c2",
   "metadata": {},
   "outputs": [],
   "source": []
  },
  {
   "cell_type": "code",
   "execution_count": 8,
   "id": "638f6f42",
   "metadata": {},
   "outputs": [
    {
     "name": "stdout",
     "output_type": "stream",
     "text": [
      "\u001b[0;31mSignature:\u001b[0m\n",
      "\u001b[0mst\u001b[0m\u001b[0;34m.\u001b[0m\u001b[0mcorrect_lsb\u001b[0m\u001b[0;34m(\u001b[0m\u001b[0;34m\u001b[0m\n",
      "\u001b[0;34m\u001b[0m    \u001b[0mrecording\u001b[0m\u001b[0;34m,\u001b[0m\u001b[0;34m\u001b[0m\n",
      "\u001b[0;34m\u001b[0m    \u001b[0mnum_chunks_per_segment\u001b[0m\u001b[0;34m=\u001b[0m\u001b[0;36m20\u001b[0m\u001b[0;34m,\u001b[0m\u001b[0;34m\u001b[0m\n",
      "\u001b[0;34m\u001b[0m    \u001b[0mchunk_size\u001b[0m\u001b[0;34m=\u001b[0m\u001b[0;36m10000\u001b[0m\u001b[0;34m,\u001b[0m\u001b[0;34m\u001b[0m\n",
      "\u001b[0;34m\u001b[0m    \u001b[0mseed\u001b[0m\u001b[0;34m=\u001b[0m\u001b[0;32mNone\u001b[0m\u001b[0;34m,\u001b[0m\u001b[0;34m\u001b[0m\n",
      "\u001b[0;34m\u001b[0m    \u001b[0mverbose\u001b[0m\u001b[0;34m=\u001b[0m\u001b[0;32mFalse\u001b[0m\u001b[0;34m,\u001b[0m\u001b[0;34m\u001b[0m\n",
      "\u001b[0;34m\u001b[0m\u001b[0;34m)\u001b[0m\u001b[0;34m\u001b[0m\u001b[0;34m\u001b[0m\u001b[0m\n",
      "\u001b[0;31mDocstring:\u001b[0m\n",
      "Estimates the LSB of the recording and divide traces by LSB\n",
      "to ensure LSB = 1. Medians are also subtracted to avoid rounding errors.\n",
      "\n",
      "Parameters\n",
      "----------\n",
      "recording : RecordingExtractor\n",
      "    The recording extractor to be LSB-corrected.\n",
      "num_chunks_per_segment : int, default: 20\n",
      "    Number of chunks per segment for random chunk\n",
      "chunk_size : int, default: 10000\n",
      "    Size of a chunk in number for random chunk\n",
      "seed : int or None, default: None\n",
      "    Random seed for random chunk\n",
      "verbose : bool, default: False\n",
      "    If True, estimate LSB value is printed\n",
      "\n",
      "Returns\n",
      "-------\n",
      "correct_lsb_recording : ScaleRecording\n",
      "    The recording extractor with corrected LSB\n",
      "\u001b[0;31mFile:\u001b[0m      ~/code/spikeinterface/src/spikeinterface/preprocessing/correct_lsb.py\n",
      "\u001b[0;31mType:\u001b[0m      function"
     ]
    }
   ],
   "source": [
    "\n",
    "# split in groups and apply spatial filtering, then reaggregate. KS4 can now handle multiple shanks\n",
    "grouped_recordings = recording.split_by(property='group')\n",
    "recgrouplist_hpsf = [st.highpass_spatial_filter(recording=grouped_recordings[k]) for k in grouped_recordings.keys()]  # cmr is slightly faster. results are similar\n",
    "recording_hpsf = si.aggregate_channels(recgrouplist_hpsf)\n",
    "print(recording_hpsf)"
   ]
  },
  {
   "cell_type": "code",
   "execution_count": null,
   "id": "ed7a107e",
   "metadata": {},
   "outputs": [],
   "source": []
  },
  {
   "cell_type": "code",
   "execution_count": null,
   "id": "6c971d9d",
   "metadata": {},
   "outputs": [],
   "source": []
  },
  {
   "cell_type": "code",
   "execution_count": 4,
   "id": "133e6502",
   "metadata": {},
   "outputs": [
    {
     "data": {
      "application/vnd.jupyter.widget-view+json": {
       "model_id": "e3a27d856bb441af94611c7b77aa47a1",
       "version_major": 2,
       "version_minor": 0
      },
      "text/plain": [
       "AppLayout(children=(TimeSlider(children=(Dropdown(description='segment', options=(0,), value=0), Button(icon='…"
      ]
     },
     "metadata": {},
     "output_type": "display_data"
    }
   ],
   "source": []
  },
  {
   "cell_type": "code",
   "execution_count": null,
   "id": "1644e397",
   "metadata": {},
   "outputs": [],
   "source": []
  },
  {
   "cell_type": "code",
   "execution_count": null,
   "id": "2fbbd171",
   "metadata": {},
   "outputs": [],
   "source": []
  },
  {
   "cell_type": "code",
   "execution_count": null,
   "id": "f01ce3d7",
   "metadata": {},
   "outputs": [],
   "source": []
  },
  {
   "cell_type": "code",
   "execution_count": null,
   "id": "99205ae0",
   "metadata": {},
   "outputs": [],
   "source": []
  },
  {
   "cell_type": "code",
   "execution_count": null,
   "id": "c6911262",
   "metadata": {},
   "outputs": [],
   "source": []
  }
 ],
 "metadata": {
  "kernelspec": {
   "display_name": "lab-env",
   "language": "python",
   "name": "python3"
  },
  "language_info": {
   "codemirror_mode": {
    "name": "ipython",
    "version": 3
   },
   "file_extension": ".py",
   "mimetype": "text/x-python",
   "name": "python",
   "nbconvert_exporter": "python",
   "pygments_lexer": "ipython3",
   "version": "3.10.0"
  }
 },
 "nbformat": 4,
 "nbformat_minor": 5
}
